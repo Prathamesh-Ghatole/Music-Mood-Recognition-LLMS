{
 "cells": [
  {
   "cell_type": "code",
   "execution_count": 2,
   "metadata": {},
   "outputs": [
    {
     "name": "stderr",
     "output_type": "stream",
     "text": [
      "/home/snaekboi/miniconda3/envs/mood_recognition/lib/python3.12/site-packages/tqdm/auto.py:21: TqdmWarning: IProgress not found. Please update jupyter and ipywidgets. See https://ipywidgets.readthedocs.io/en/stable/user_install.html\n",
      "  from .autonotebook import tqdm as notebook_tqdm\n"
     ]
    }
   ],
   "source": [
    "import os\n",
    "import pandas as pd\n",
    "from tqdm.auto import tqdm\n",
    "tqdm.pandas()"
   ]
  },
  {
   "cell_type": "code",
   "execution_count": 3,
   "metadata": {},
   "outputs": [],
   "source": [
    "DL_PATH = \"data/audio\"\n",
    "QUALITY_KBPS = 128\n",
    "DATASET = \"data/dataset_500.csv\""
   ]
  },
  {
   "cell_type": "code",
   "execution_count": 4,
   "metadata": {},
   "outputs": [
    {
     "data": {
      "text/html": [
       "<div>\n",
       "<style scoped>\n",
       "    .dataframe tbody tr th:only-of-type {\n",
       "        vertical-align: middle;\n",
       "    }\n",
       "\n",
       "    .dataframe tbody tr th {\n",
       "        vertical-align: top;\n",
       "    }\n",
       "\n",
       "    .dataframe thead th {\n",
       "        text-align: right;\n",
       "    }\n",
       "</style>\n",
       "<table border=\"1\" class=\"dataframe\">\n",
       "  <thead>\n",
       "    <tr style=\"text-align: right;\">\n",
       "      <th></th>\n",
       "      <th>Index</th>\n",
       "      <th>Artist</th>\n",
       "      <th>Title</th>\n",
       "      <th>Mood</th>\n",
       "    </tr>\n",
       "  </thead>\n",
       "  <tbody>\n",
       "    <tr>\n",
       "      <th>0</th>\n",
       "      <td>ML728</td>\n",
       "      <td>Sam Cooke</td>\n",
       "      <td>Trouble Blues</td>\n",
       "      <td>angry</td>\n",
       "    </tr>\n",
       "    <tr>\n",
       "      <th>1</th>\n",
       "      <td>ML319</td>\n",
       "      <td>Ferry Corsten</td>\n",
       "      <td>Fire</td>\n",
       "      <td>angry</td>\n",
       "    </tr>\n",
       "    <tr>\n",
       "      <th>2</th>\n",
       "      <td>ML1971</td>\n",
       "      <td>Phyllis Hyman</td>\n",
       "      <td>Loving You, Losing You</td>\n",
       "      <td>angry</td>\n",
       "    </tr>\n",
       "    <tr>\n",
       "      <th>3</th>\n",
       "      <td>ML388</td>\n",
       "      <td>Marilyn Manson</td>\n",
       "      <td>The Fight Song</td>\n",
       "      <td>angry</td>\n",
       "    </tr>\n",
       "    <tr>\n",
       "      <th>4</th>\n",
       "      <td>ML1908</td>\n",
       "      <td>Lindsey Buckingham</td>\n",
       "      <td>Go Insane</td>\n",
       "      <td>angry</td>\n",
       "    </tr>\n",
       "    <tr>\n",
       "      <th>...</th>\n",
       "      <td>...</td>\n",
       "      <td>...</td>\n",
       "      <td>...</td>\n",
       "      <td>...</td>\n",
       "    </tr>\n",
       "    <tr>\n",
       "      <th>495</th>\n",
       "      <td>ML1840</td>\n",
       "      <td>Slayer</td>\n",
       "      <td>Necrophobic</td>\n",
       "      <td>sad</td>\n",
       "    </tr>\n",
       "    <tr>\n",
       "      <th>496</th>\n",
       "      <td>ML603</td>\n",
       "      <td>Monchy &amp; Alexandra</td>\n",
       "      <td>Dos Locos</td>\n",
       "      <td>sad</td>\n",
       "    </tr>\n",
       "    <tr>\n",
       "      <th>497</th>\n",
       "      <td>ML1939</td>\n",
       "      <td>Ruben Blades</td>\n",
       "      <td>El Padre Antonio Y El Monaguillo Andres</td>\n",
       "      <td>sad</td>\n",
       "    </tr>\n",
       "    <tr>\n",
       "      <th>498</th>\n",
       "      <td>ML57</td>\n",
       "      <td>Comeback Kid</td>\n",
       "      <td>Do Yourself A Favor</td>\n",
       "      <td>sad</td>\n",
       "    </tr>\n",
       "    <tr>\n",
       "      <th>499</th>\n",
       "      <td>ML760</td>\n",
       "      <td>Stevie Ray Vaughan &amp; Double Trouble</td>\n",
       "      <td>Willie The Wimp</td>\n",
       "      <td>sad</td>\n",
       "    </tr>\n",
       "  </tbody>\n",
       "</table>\n",
       "<p>500 rows × 4 columns</p>\n",
       "</div>"
      ],
      "text/plain": [
       "      Index                               Artist  \\\n",
       "0     ML728                            Sam Cooke   \n",
       "1     ML319                        Ferry Corsten   \n",
       "2    ML1971                        Phyllis Hyman   \n",
       "3     ML388                       Marilyn Manson   \n",
       "4    ML1908                   Lindsey Buckingham   \n",
       "..      ...                                  ...   \n",
       "495  ML1840                               Slayer   \n",
       "496   ML603                   Monchy & Alexandra   \n",
       "497  ML1939                         Ruben Blades   \n",
       "498    ML57                         Comeback Kid   \n",
       "499   ML760  Stevie Ray Vaughan & Double Trouble   \n",
       "\n",
       "                                       Title   Mood  \n",
       "0                              Trouble Blues  angry  \n",
       "1                                       Fire  angry  \n",
       "2                     Loving You, Losing You  angry  \n",
       "3                             The Fight Song  angry  \n",
       "4                                  Go Insane  angry  \n",
       "..                                       ...    ...  \n",
       "495                              Necrophobic    sad  \n",
       "496                                Dos Locos    sad  \n",
       "497  El Padre Antonio Y El Monaguillo Andres    sad  \n",
       "498                      Do Yourself A Favor    sad  \n",
       "499                         Willie The Wimp     sad  \n",
       "\n",
       "[500 rows x 4 columns]"
      ]
     },
     "execution_count": 4,
     "metadata": {},
     "output_type": "execute_result"
    }
   ],
   "source": [
    "dataset = pd.read_csv(DATASET)\n",
    "dataset"
   ]
  },
  {
   "cell_type": "code",
   "execution_count": 4,
   "metadata": {},
   "outputs": [],
   "source": [
    "def download_mp3(song_name, index):\n",
    "    os.system(\"clear\")\n",
    "    os.system(\n",
    "        f\"yt-dlp -x --audio-format mp3\"\n",
    "        + \" \"\n",
    "        f\"-N 3\"\n",
    "        + \" \"\n",
    "        f\"ytsearch1:'{song_name}'\"\n",
    "        + \" \"\n",
    "        f\"--audio-quality {QUALITY_KBPS}K\"\n",
    "        + \" \"\n",
    "        f\"-o 'data/audio/{index}.%(ext)s'\"\n",
    "    )"
   ]
  },
  {
   "cell_type": "code",
   "execution_count": null,
   "metadata": {},
   "outputs": [],
   "source": [
    "dataset.progress_apply(lambda x: download_mp3(f\"{x.Artist} - {x.Title}\", x.Index), axis=1)"
   ]
  }
 ],
 "metadata": {
  "kernelspec": {
   "display_name": "mood_recognition",
   "language": "python",
   "name": "python3"
  },
  "language_info": {
   "codemirror_mode": {
    "name": "ipython",
    "version": 3
   },
   "file_extension": ".py",
   "mimetype": "text/x-python",
   "name": "python",
   "nbconvert_exporter": "python",
   "pygments_lexer": "ipython3",
   "version": "3.12.2"
  }
 },
 "nbformat": 4,
 "nbformat_minor": 2
}
